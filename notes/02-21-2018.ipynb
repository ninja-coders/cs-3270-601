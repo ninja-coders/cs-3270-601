{
 "cells": [
  {
   "cell_type": "markdown",
   "metadata": {
    "collapsed": true
   },
   "source": [
    "## Python Classes\n",
    "\n",
    "Here we will play with python classes, as well as better understanding duck typing. We will also be looking over named tuples.\n",
    "\n",
    "### Exercise 1\n",
    "\n",
    "Lets create a basic person class and an inherited student class\n",
    "\n",
    "<Answer:\n",
    "class Person:\n",
    "    def __init__(self, name):\n",
    "        self.name = name\n",
    "        \n",
    "    def get_name(self):\n",
    "        return self.name\n",
    "\n",
    "class Student(Person):\n",
    "    def __init__(self, name):\n",
    "        super().__init__(name)\n",
    "        \n",
    "    def get_name(self):\n",
    "        return 'No name: ' + super().get_name()\n",
    "        \n",
    "    def get_grade(self):\n",
    "        return 'A'\n",
    ">"
   ]
  },
  {
   "cell_type": "code",
   "execution_count": 1,
   "metadata": {
    "collapsed": true
   },
   "outputs": [],
   "source": [
    "class Person:\n",
    "    def __init__(self, name, age):\n",
    "        self._name = name\n",
    "        self._age = age\n",
    "        \n",
    "    def get_age(self):\n",
    "        return self._age\n",
    "    \n",
    "    def get_name(self):\n",
    "        return self._name\n",
    "    \n",
    "    def __repr__(self):\n",
    "        return f'Person(\"{self._name}\", {self._age})'"
   ]
  },
  {
   "cell_type": "code",
   "execution_count": 2,
   "metadata": {
    "collapsed": true
   },
   "outputs": [],
   "source": [
    "class Student(Person):\n",
    "    def __init__(self, name, age, grade):\n",
    "        super().__init__(name, age)\n",
    "        #Person.__init__(self, name, age)\n",
    "        self._grade = grade\n",
    "        \n",
    "    def get_name(self, other=None):\n",
    "        return f'{super().get_name()} and {other}' \n",
    "        #return f'Me and {other}'\n",
    "        \n",
    "    "
   ]
  },
  {
   "cell_type": "code",
   "execution_count": 3,
   "metadata": {
    "collapsed": false
   },
   "outputs": [
    {
     "name": "stdout",
     "output_type": "stream",
     "text": [
      "Mike\n",
      "10\n"
     ]
    },
    {
     "data": {
      "text/plain": [
       "'Mike and You'"
      ]
     },
     "execution_count": 3,
     "metadata": {},
     "output_type": "execute_result"
    }
   ],
   "source": [
    "p = Person('Mike', 38)\n",
    "print(p._name)\n",
    "\n",
    "p.new_variable = 10\n",
    "print(p.new_variable)\n",
    "\n",
    "p.get_age()\n",
    "\n",
    "s = Student('Mike', 10, 'A')\n",
    "s.get_name('You')"
   ]
  },
  {
   "cell_type": "code",
   "execution_count": 4,
   "metadata": {
    "collapsed": false
   },
   "outputs": [
    {
     "data": {
      "text/plain": [
       "Person(\"Mike\", 38)"
      ]
     },
     "execution_count": 4,
     "metadata": {},
     "output_type": "execute_result"
    }
   ],
   "source": [
    "Person(\"Mike\", 38)"
   ]
  },
  {
   "cell_type": "markdown",
   "metadata": {},
   "source": [
    "### Exercise 2\n",
    "\n",
    "Lets look at creating a property for a person and hiding our \"sensitive\" data."
   ]
  },
  {
   "cell_type": "code",
   "execution_count": 5,
   "metadata": {
    "collapsed": false
   },
   "outputs": [],
   "source": [
    "class Person:\n",
    "    def __init__(self, name, age):\n",
    "        self._name = name\n",
    "        self._age = age\n",
    "        \n",
    "    @property\n",
    "    def age(self):\n",
    "        return self._age\n",
    "    \n",
    "    @age.setter\n",
    "    def age(self, new_age):\n",
    "        self._age = new_age\n",
    "    \n",
    "    @property\n",
    "    def name(self):\n",
    "        return self._name\n",
    "    \n",
    "    def __repr__(self):\n",
    "        return f'Person(\"{self._name}\", {self._age})'"
   ]
  },
  {
   "cell_type": "code",
   "execution_count": 6,
   "metadata": {
    "collapsed": false
   },
   "outputs": [
    {
     "name": "stdout",
     "output_type": "stream",
     "text": [
      "Me\n",
      "10\n",
      "20\n"
     ]
    }
   ],
   "source": [
    "p = Person('Me', 10)\n",
    "print(p.name)\n",
    "\n",
    "print(p.age)\n",
    "p.age = 20\n",
    "print(p.age)"
   ]
  },
  {
   "cell_type": "markdown",
   "metadata": {},
   "source": [
    "### Exercise 3\n",
    "\n",
    "Create a static and class method on a test class."
   ]
  },
  {
   "cell_type": "code",
   "execution_count": 25,
   "metadata": {
    "collapsed": false
   },
   "outputs": [],
   "source": [
    "class TestItAll:\n",
    "    def __init__(self, value):\n",
    "        self._value = value\n",
    "        \n",
    "    @property\n",
    "    def value(self):\n",
    "        return self._value\n",
    "    \n",
    "    @classmethod\n",
    "    def class_value(cls, new_value):\n",
    "        cls.value = new_value \n",
    "        \n",
    "    @staticmethod\n",
    "    def static_value():\n",
    "        return 100\n",
    "    \n",
    "    def test_it(self):\n",
    "        return self.value"
   ]
  },
  {
   "cell_type": "code",
   "execution_count": 26,
   "metadata": {
    "collapsed": false
   },
   "outputs": [
    {
     "name": "stdout",
     "output_type": "stream",
     "text": [
      "<property object at 0x000002AC15C55D68>\n",
      "20\n"
     ]
    }
   ],
   "source": [
    "print(TestItAll.value)\n",
    "TestItAll.class_value(20)\n",
    "print(TestItAll.value)\n",
    "#TestItAll.class_value(20)\n",
    "#x = TestItAll(10)\n",
    "#y = TestItAll(20)\n",
    "\n",
    "#dir(x)"
   ]
  },
  {
   "cell_type": "markdown",
   "metadata": {},
   "source": [
    "### Exercise 4\n",
    "\n",
    "Overwrite some operators in the class, provide functionality for len, equality and string conversion.  "
   ]
  },
  {
   "cell_type": "code",
   "execution_count": null,
   "metadata": {
    "collapsed": true
   },
   "outputs": [],
   "source": []
  },
  {
   "cell_type": "markdown",
   "metadata": {},
   "source": [
    "### Exercise 5\n",
    "\n",
    "Lets play around with named tuples and compare them to existing tuples."
   ]
  },
  {
   "cell_type": "code",
   "execution_count": null,
   "metadata": {
    "collapsed": true
   },
   "outputs": [],
   "source": []
  }
 ],
 "metadata": {
  "kernelspec": {
   "display_name": "Python 3",
   "language": "python",
   "name": "python3"
  },
  "language_info": {
   "codemirror_mode": {
    "name": "ipython",
    "version": 3
   },
   "file_extension": ".py",
   "mimetype": "text/x-python",
   "name": "python",
   "nbconvert_exporter": "python",
   "pygments_lexer": "ipython3",
   "version": "3.6.2"
  }
 },
 "nbformat": 4,
 "nbformat_minor": 2
}
