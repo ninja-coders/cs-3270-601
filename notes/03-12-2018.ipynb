{
 "cells": [
  {
   "cell_type": "markdown",
   "metadata": {},
   "source": [
    "## Class Dunder Methods (Magic Methods)\n",
    "\n",
    "The dunder methods are the way that we make a python class work with operators and functions in python.  \n",
    "\n",
    "The main benefit of using dunder methods is that people can use existing knowledge from python when\n",
    "working with objects of your class, as well as making your code easier to read/work with in python.   \n",
    "\n",
    "These are just `syntactic sugar`, what this means is that you can implement the functionality in other ways\n",
    "but this way is the way that makes the code the most readable to other python developers.  \n",
    "\n",
    "For the majority of the examples below we are going to be using a class that represents an positive integer\n",
    "(think unsigned) of fixed size 4.  "
   ]
  },
  {
   "cell_type": "markdown",
   "metadata": {},
   "source": [
    "### String Dunder Methods\n",
    "\n",
    "Lets start by creating a class that will render correct output when printed in a string, as well as when\n",
    "returned as a result from the repl.  "
   ]
  },
  {
   "cell_type": "code",
   "execution_count": 36,
   "metadata": {
    "collapsed": true
   },
   "outputs": [],
   "source": [
    "class MyInt:\n",
    "    def __init__(self, num):\n",
    "        self._num = num\n",
    "        \n",
    "    def __str__(self):\n",
    "        return str(self._num)\n",
    "    \n",
    "    def __repr__(self):\n",
    "        return f'MyInt({self._num})'"
   ]
  },
  {
   "cell_type": "code",
   "execution_count": 37,
   "metadata": {
    "collapsed": false
   },
   "outputs": [
    {
     "name": "stdout",
     "output_type": "stream",
     "text": [
      "10\n"
     ]
    },
    {
     "data": {
      "text/plain": [
       "MyInt(10)"
      ]
     },
     "execution_count": 37,
     "metadata": {},
     "output_type": "execute_result"
    }
   ],
   "source": [
    "x = MyInt(10)\n",
    "print(x)\n",
    "x"
   ]
  },
  {
   "cell_type": "markdown",
   "metadata": {},
   "source": [
    "### Add basic math operations\n",
    "\n",
    "Let's start by supporting the basic operations:\n",
    "\n",
    "- add\n",
    "- sub\n",
    "- multiply\n",
    "- divide\n"
   ]
  },
  {
   "cell_type": "code",
   "execution_count": 63,
   "metadata": {
    "collapsed": true
   },
   "outputs": [],
   "source": [
    "class MyInt:\n",
    "    def __init__(self, num):\n",
    "        while num < 0:\n",
    "            num += (2 ** 32)\n",
    "        self._num = num % (2 ** 32)\n",
    "        \n",
    "    def __str__(self):\n",
    "        return str(self._num)\n",
    "    \n",
    "    def __repr__(self):\n",
    "        return 'MyInt(' + self._num + ')'\n",
    "    \n",
    "    def __sub__(self, other):\n",
    "        return self.__add__(other * -1)\n",
    "    \n",
    "        #if isinstance(other, MyInt):\n",
    "        #    return MyInt(self._num - other._num)\n",
    "        #if isinstance(other, int):\n",
    "        #    return MyInt(self._num - other)\n",
    "        # \n",
    "        #raise ValueError('Cannot add type to MyInt')\n",
    "        \n",
    "    def __rsub__(self, other):\n",
    "        return MyInt((self._num * -1)).__add__(other)\n",
    "        \n",
    "    def __add__(self, other):\n",
    "        if isinstance(other, MyInt):\n",
    "            return MyInt(self._num + other._num)\n",
    "        if isinstance(other, int):\n",
    "            return MyInt(self._num + other)\n",
    "        \n",
    "        raise ValueError('Cannot add type to MyInt')\n",
    "        \n",
    "    def __radd__(self, other):\n",
    "        return self.__add__(other)\n",
    "    \n",
    "    def __mul__(self, other):\n",
    "        if isinstance(other, MyInt):\n",
    "            return MyInt(self._num * other._num)\n",
    "        if isinstance(other, int):\n",
    "            return MyInt(self._num * other)\n",
    "        \n",
    "        raise ValueError('Cannot add type to MyInt')\n",
    "        \n",
    "    def __rmul__(self, other):\n",
    "        return self.__mul__(other)"
   ]
  },
  {
   "cell_type": "code",
   "execution_count": 69,
   "metadata": {
    "collapsed": false
   },
   "outputs": [
    {
     "name": "stdout",
     "output_type": "stream",
     "text": [
      "30\n",
      "20\n",
      "30\n",
      "4294967286\n",
      "0\n",
      "4294967286\n"
     ]
    }
   ],
   "source": [
    "x = MyInt(10)\n",
    "y = MyInt(20)\n",
    "#MyInt(10) + MyInt(20)\n",
    "print(x + y)\n",
    "print(x + 10)\n",
    "print(10 + y)\n",
    "print(x - y)\n",
    "print(x - 10)\n",
    "print(10 - y)"
   ]
  },
  {
   "cell_type": "markdown",
   "metadata": {},
   "source": [
    "### Creating a Sequence\n",
    "\n",
    "Now lets move on to creating a sequence in python, this class will work like a list in that you can specify an index\n",
    "and from the index you can operate on the class.  Lets start by creating a string that is `mutable`.  "
   ]
  },
  {
   "cell_type": "code",
   "execution_count": 76,
   "metadata": {
    "collapsed": false
   },
   "outputs": [],
   "source": [
    "class MyStr:\n",
    "    def __init__(self, text):\n",
    "        self._str = text\n",
    "        \n",
    "    def __repr__(self):\n",
    "        return 'MyStr(\"' + self._str + '\")'\n",
    "    \n",
    "    def __str__(self):\n",
    "        return self._str\n",
    "    \n",
    "    def __getitem__(self, key):\n",
    "        return self._str[key]\n",
    "    \n",
    "    def __setitem__(self, key, value):\n",
    "        self._str = self._str[:key] + value + self._str[key+1:]"
   ]
  },
  {
   "cell_type": "code",
   "execution_count": 79,
   "metadata": {
    "collapsed": false
   },
   "outputs": [
    {
     "name": "stdout",
     "output_type": "stream",
     "text": [
      "Hello\n",
      "l\n",
      "el\n",
      "Helfo\n"
     ]
    }
   ],
   "source": [
    "x = MyStr('Hello')\n",
    "print(x)\n",
    "print(x[2])\n",
    "print(x[1:3])\n",
    "x[3] = 'f'\n",
    "print(x)\n",
    "#x[2:3] = 'hi'"
   ]
  },
  {
   "cell_type": "markdown",
   "metadata": {},
   "source": [
    "### Slicing\n",
    "\n",
    "There is another aspect to using sequences, we want to make sure we support slicing.  "
   ]
  },
  {
   "cell_type": "code",
   "execution_count": 104,
   "metadata": {
    "collapsed": true
   },
   "outputs": [],
   "source": [
    "class MyStr:\n",
    "    def __init__(self, text):\n",
    "        self._str = text\n",
    "        \n",
    "    def __repr__(self):\n",
    "        return 'MyStr(\"' + self._str + '\")'\n",
    "    \n",
    "    def __str__(self):\n",
    "        return self._str\n",
    "    \n",
    "    def __getitem__(self, key):\n",
    "        return self._str[key]\n",
    "    \n",
    "    def __setitem__(self, key, value):\n",
    "        if isinstance(key, int):\n",
    "            self._str = self._str[:key] + value + self._str[key+1:]\n",
    "        elif isinstance(key, slice):\n",
    "            start = key.start\n",
    "            end = key.stop\n",
    "            step = key.step\n",
    "            if start is None:\n",
    "                start = 0\n",
    "            if end is None:\n",
    "                end = len(self._str)\n",
    "            if step is not None:\n",
    "                raise ValueError(\"Doesn't support slice steps\")\n",
    "                \n",
    "            left_str = self._str[:start]\n",
    "            right_str = self._str[end:]\n",
    "            self._str = left_str + value + right_str\n",
    "        else:\n",
    "            raise ValueError('Cannot use supplied key')"
   ]
  },
  {
   "cell_type": "code",
   "execution_count": 105,
   "metadata": {
    "collapsed": false
   },
   "outputs": [
    {
     "name": "stdout",
     "output_type": "stream",
     "text": [
      "Teother\n"
     ]
    }
   ],
   "source": [
    "y = MyStr('Test')\n",
    "y[2:] = 'other'\n",
    "print(y)\n",
    "#x = slice(3, 4)\n",
    "#x"
   ]
  },
  {
   "cell_type": "markdown",
   "metadata": {},
   "source": [
    "### Named Tuples\n",
    "\n",
    "Lets play around with named tuples"
   ]
  },
  {
   "cell_type": "code",
   "execution_count": 106,
   "metadata": {
    "collapsed": false
   },
   "outputs": [],
   "source": [
    "from collections import namedtuple\n",
    "\n",
    "Student = namedtuple('Student', ['name', 'grade'])"
   ]
  },
  {
   "cell_type": "code",
   "execution_count": 114,
   "metadata": {
    "collapsed": false
   },
   "outputs": [
    {
     "name": "stdout",
     "output_type": "stream",
     "text": [
      "Me\n",
      "F\n",
      "Me F\n",
      "['__add__', '__class__', '__contains__', '__delattr__', '__dir__', '__doc__', '__eq__', '__format__', '__ge__', '__getattribute__', '__getitem__', '__getnewargs__', '__gt__', '__hash__', '__init__', '__init_subclass__', '__iter__', '__le__', '__len__', '__lt__', '__module__', '__mul__', '__ne__', '__new__', '__reduce__', '__reduce_ex__', '__repr__', '__rmul__', '__setattr__', '__sizeof__', '__slots__', '__str__', '__subclasshook__', '_asdict', '_fields', '_make', '_replace', '_source', 'count', 'grade', 'index', 'name']\n"
     ]
    },
    {
     "data": {
      "text/plain": [
       "Student(name='Me', grade='F')"
      ]
     },
     "execution_count": 114,
     "metadata": {},
     "output_type": "execute_result"
    }
   ],
   "source": [
    "y = Student('Me', 'F')\n",
    "print(y.name)\n",
    "print(y.grade)\n",
    "\n",
    "name, grade = y\n",
    "print(name, grade)\n",
    "print(dir(y))\n",
    "y"
   ]
  },
  {
   "cell_type": "code",
   "execution_count": null,
   "metadata": {
    "collapsed": true
   },
   "outputs": [],
   "source": []
  }
 ],
 "metadata": {
  "kernelspec": {
   "display_name": "Python 3",
   "language": "python",
   "name": "python3"
  },
  "language_info": {
   "codemirror_mode": {
    "name": "ipython",
    "version": 3
   },
   "file_extension": ".py",
   "mimetype": "text/x-python",
   "name": "python",
   "nbconvert_exporter": "python",
   "pygments_lexer": "ipython3",
   "version": "3.6.2"
  }
 },
 "nbformat": 4,
 "nbformat_minor": 2
}
