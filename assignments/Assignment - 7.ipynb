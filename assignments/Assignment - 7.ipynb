{
 "cells": [
  {
   "cell_type": "markdown",
   "metadata": {},
   "source": [
    "Flask - Forum\n",
    "-----------------------------------\n",
    "\n",
    "For this final assignment we will be implementing a simple REST endpoint that\n",
    "uses the python library `flask` to create the endpoint while keeping the data\n",
    "in a sqlite database.  \n",
    "\n",
    "There is no requirement for a UI or other client, just that the api follow\n",
    "the pattern defined below.  \n",
    "\n",
    "## Application\n",
    "\n",
    "So to overview this application you will be create a simple forum, style system\n",
    "that allows for threads to be created with multiple comments supplied (including\n",
    "order).   "
   ]
  },
  {
   "cell_type": "markdown",
   "metadata": {},
   "source": [
    "## Rest Endpoints\n",
    "\n",
    "For the rest portion of this assignment you will need to create the rest endpoints as defined\n",
    "below. \n",
    "\n",
    "### Endpoints\n",
    "\n",
    "        GET    /thread\n",
    "                 - Returns a list of all threads using thread object\n",
    "        POST   /thread\n",
    "                 - Create a new thread (id is not required for creation)\n",
    "        GET    /thread/{id}\n",
    "                 - Returns single thread for given id\n",
    "        GET    /thread/{id}/message\n",
    "                 - Get the messages for a given thread\n",
    "        POST   /thread/{id}/message\n",
    "                 - Create a new message in a given thread (message_id is not required for creation)\n",
    "        GET    /thread/{id}/message/{message_id}\n",
    "                 - Get back a specific messae on a specific thread\n",
    "        DELETE /thread/{id}/message/{message_id}\n",
    "                 - Delete a message for a specific thread\n",
    "        \n",
    "### Object Definitions\n",
    "\n",
    "**Thread Type**\n",
    "        \n",
    "        {\n",
    "          \"id\": 1,\n",
    "          \"thread\": \"some name\"\n",
    "        }\n",
    "        \n",
    "**Message Type**\n",
    "        \n",
    "        {\n",
    "           \"threadId\": 1,\n",
    "           \"messageId\": 2,\n",
    "           \"message\": \"some text\"\n",
    "        }        "
   ]
  },
  {
   "cell_type": "markdown",
   "metadata": {},
   "source": [
    "## Database\n",
    "\n",
    "The database should be a sqlite database (can be an inmemory database).  The database should\n",
    "have the two tables outlined below and expose an interface that can be used to communicate with\n",
    "the database but only through a controlled endpoint.  \n",
    "\n",
    "It is important to note that if the tables do not exist the system should automatically create\n",
    "the tables without requiring user intervention.  \n",
    "\n",
    "### Tables\n",
    "\n",
    "There are two tables that you will need to create with the structure defined below.  \n",
    "\n",
    "**Thread Table**\n",
    "\n",
    "        Id   INT  - Primary Key of the table\n",
    "        Name TEXT - The name of the thread\n",
    "        \n",
    "**Message Table**\n",
    "\n",
    "        MessageId INT  - Primary Key of the table\n",
    "        ThreadId  INT  - Id of the associated thread\n",
    "        Message   TEXT - The text of a given message\n",
    "       "
   ]
  },
  {
   "cell_type": "markdown",
   "metadata": {},
   "source": [
    "## Directory Structure\n",
    "\n",
    "This assignment should have all code put under a `hw7` folder that is in the assignments folder\n",
    "(this is the location of this current file).  \n",
    "\n",
    "The structure should be laid out using the below pattern, specific files can be left up to your \n",
    "discretion outside of the `app.py` file that is the start of the application. \n",
    "\n",
    "        app.py\n",
    "          - db/\n",
    "        \n",
    "To run the application you should be able to start it using the below command.  \n",
    "\n",
    "        python app.py\n",
    "        \n",
    "Also make sure that the rest application is listening on port `5000` for incoming requests.            "
   ]
  },
  {
   "cell_type": "markdown",
   "metadata": {},
   "source": [
    "## Submission\n",
    "\n",
    "Once you have completed the assignment just commit the code and push it up to your github\n",
    "account. "
   ]
  },
  {
   "cell_type": "code",
   "execution_count": null,
   "metadata": {
    "collapsed": true
   },
   "outputs": [],
   "source": []
  }
 ],
 "metadata": {
  "kernelspec": {
   "display_name": "Python 3",
   "language": "python",
   "name": "python3"
  },
  "language_info": {
   "codemirror_mode": {
    "name": "ipython",
    "version": 3
   },
   "file_extension": ".py",
   "mimetype": "text/x-python",
   "name": "python",
   "nbconvert_exporter": "python",
   "pygments_lexer": "ipython3",
   "version": "3.5.2"
  }
 },
 "nbformat": 4,
 "nbformat_minor": 2
}
