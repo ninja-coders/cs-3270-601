{
 "cells": [
  {
   "cell_type": "markdown",
   "metadata": {},
   "source": [
    "CS 3270 (Python) Homework 1\n",
    "---------------------------------------------------------------\n",
    "\n",
    "\n",
    "\n",
    "Chapter 1\n",
    "1. Write a program that prompts the user for a sequence of integers one at a time from\n",
    "the console (ending with an empty Return) and prints the following:\n",
    "a. All of the numbers in a list, in the order they were received\n",
    "b. Print the sum, minimum, maximum, median and average of the numbers (the\n",
    "median is the middle number in sorted order if the length of the list is odd;\n",
    "otherwise it is the average of the middle two numbers in sorted order)\n",
    "2. Write a Stack class that uses a list for its internal data. It’s easy to use a list as a\n",
    "stack by treating the end of the list as the top of the stack, and then using list’s\n",
    "append and pop methods. Supply the user with push, pop, top, and size methods\n",
    "(your pop should return nothing: just remove the “top” (last) element). Test by\n",
    "pushing the numbers 1 through 10, and then popping and printing them one at a\n",
    "time.\n",
    "3. Write a function num(n) that returns the nth number from the sequence 2, 4, 7, 11,\n",
    "16, 22,... Note that difference between the numbers is 2, 3, 4, 5, 6, ..., respectively.\n",
    "4. Write a function, mysqrt(a,g), that computes the square root of a (can be a real\n",
    "number) by the following formula: $x_{n+1} = (x_{n} + a/x_{n}) / 2$. The input number, g, is the\n",
    "first guess (x 0 ). This is plugged into the formula for x n to compute the next guess, x 1 .\n",
    "Continue until the difference between the current guess and the previous guess is\n",
    "less than .00005. Print out the number of iterations (n) and then return your last\n",
    "guess. Then compute and print the difference between your answer and\n",
    "math.sqrt(a). You’ll need to import the math module."
   ]
  },
  {
   "cell_type": "markdown",
   "metadata": {},
   "source": [
    "## Program 1 \n",
    "\n",
    "Write a program that prompts the user for a sequence of integers one at a time from\n",
    "the console (ending with an empty Return) and does the following:\n",
    "\n",
    "1. Stores all the inputs in a list in the order they were received.  \n",
    "2. Calculate the sum, minimum, maximum, median and average of the list (the median is the middle number in sorted order if the length of the list is odd; otherwise it is the average of the middle two numbers in sorted order)    "
   ]
  },
  {
   "cell_type": "markdown",
   "metadata": {},
   "source": [
    "    ## Sample Run\n",
    "    Enter an integer (Return to quit): 1\n",
    "    Enter an integer (Return to quit): 2\n",
    "    Enter an integer (Return to quit): 3\n",
    "    Enter an integer (Return to quit): 4\n",
    "    Enter an integer (Return to quit): 5\n",
    "    Enter an integer (Return to quit): \n",
    "    Numbers: [1, 2, 3, 4, 5]\n",
    "    sum = 15 min = 1 max = 5 average = 3.0 median = 3"
   ]
  },
  {
   "cell_type": "code",
   "execution_count": 1,
   "metadata": {
    "collapsed": false
   },
   "outputs": [
    {
     "name": "stdout",
     "output_type": "stream",
     "text": [
      "Enter an integer (enter nothing to stop): 1\n",
      "Enter an integer (enter nothing to stop): 2\n",
      "Enter an integer (enter nothing to stop): 4\n",
      "Enter an integer (enter nothing to stop): 5\n",
      "Enter an integer (enter nothing to stop): 2\n",
      "Enter an integer (enter nothing to stop): \n",
      "Numbers: [1, 2, 4, 5, 2]\n",
      "sum = 14 min = 1 max = 5 average = 2.8 median = 2\n"
     ]
    }
   ],
   "source": [
    "## Solution\n",
    "def main():\n",
    "    numbers = []\n",
    "    while True:\n",
    "        try:\n",
    "            num_input = int(input('Enter an integer (enter nothing to stop): '))\n",
    "        except ValueError:\n",
    "            break\n",
    "        numbers.append(num_input)\n",
    "\n",
    "    print(\"Numbers:\", numbers)\n",
    "\n",
    "    print(f\"sum = {sum(numbers)} min = {min(numbers)} max = {max(numbers)} average = {average(numbers)} median = {median(numbers)}\")\n",
    "\n",
    "def sum(list):\n",
    "    sum = 0\n",
    "    for x in list:\n",
    "        sum += x\n",
    "    return sum\n",
    "\n",
    "def min(list):\n",
    "    min = list[0]\n",
    "    for x in list:\n",
    "        if x < min:\n",
    "            min = x\n",
    "    return min\n",
    "\n",
    "def max(list):\n",
    "    max = list[0]\n",
    "    for x in list:\n",
    "        if x > max:\n",
    "            max = x\n",
    "    return max\n",
    "\n",
    "def average(list):\n",
    "    thing = sum(list)\n",
    "    return round(thing / len(list), 2)\n",
    "\n",
    "def median(list):\n",
    "    list.sort()\n",
    "    median = list[0]\n",
    "    index = len(list) // 2\n",
    "    median = list[index]\n",
    "\n",
    "    if index % 2 is not 0:\n",
    "        median = round((list[index] + list[index]) / 2, 2)\n",
    "\n",
    "    return median\n",
    "\n",
    "if __name__ == \"__main__\":\n",
    "    main()\n"
   ]
  },
  {
   "cell_type": "markdown",
   "metadata": {},
   "source": [
    "## Program 2\n",
    "\n",
    "Write a Stack class that uses a list for its internal data. It’s easy to use a list as a stack by treating the end of the list as the top of the stack, and then using list’s append and pop methods. Supply the user with push, pop, top, and size methods (your pop should return nothing: just remove the “top” (last) element). Test by pushing the numbers 1 through 10, and then popping and printing them one at a time."
   ]
  },
  {
   "cell_type": "code",
   "execution_count": 2,
   "metadata": {
    "collapsed": true
   },
   "outputs": [],
   "source": [
    "class Stack():\n",
    "    def __init__(self):\n",
    "        self.__stack = []\n",
    "    def push(self,x):\n",
    "        self.__stack.append(x)\n",
    "    def pop(self):\n",
    "        self.__stack.pop()\n",
    "    def top(self):\n",
    "        return self.__stack[len(self.__stack)-1]\n",
    "    def size(self):\n",
    "        return len(self.__stack)\n"
   ]
  },
  {
   "cell_type": "code",
   "execution_count": 3,
   "metadata": {
    "collapsed": false
   },
   "outputs": [
    {
     "name": "stdout",
     "output_type": "stream",
     "text": [
      "Tests Complete\n"
     ]
    }
   ],
   "source": [
    "## Solution Test\n",
    "\n",
    "stk = Stack()\n",
    "for n in range(1,11):\n",
    "    stk.push(n)\n",
    "    \n",
    "assert(stk.top() == 10)\n",
    "stk.pop()\n",
    "assert(stk.top() == 9)\n",
    "stk.pop()\n",
    "assert(stk.top() == 8)\n",
    "stk.pop()\n",
    "stk.pop()\n",
    "stk.pop()\n",
    "assert(stk.top() == 5)\n",
    "stk.pop()\n",
    "stk.pop()\n",
    "assert(stk.top() == 3)\n",
    "stk.pop()\n",
    "stk.pop()\n",
    "assert(stk.top() == 1)\n",
    "stk.pop()\n",
    "assert(stk.size() == 0)\n",
    "\n",
    "print(\"Tests Complete\")"
   ]
  },
  {
   "cell_type": "markdown",
   "metadata": {},
   "source": [
    "## Program 3\n",
    "\n",
    "Write a function num(n) that returns the nth number from the sequence 2, 4, 7, 11, 16, 22,... \n",
    "Note that difference between the numbers is 2, 3, 4, 5, 6, ..., respectively."
   ]
  },
  {
   "cell_type": "code",
   "execution_count": 4,
   "metadata": {
    "collapsed": false
   },
   "outputs": [],
   "source": [
    "## Solution\n",
    "def num(n):\n",
    "  seq_index = 2\n",
    "  i = seq_index\n",
    "  for _ in list(range(n)):\n",
    "    seq_index += i\n",
    "    i += 1\n",
    "\n",
    "  return seq_index"
   ]
  },
  {
   "cell_type": "code",
   "execution_count": 5,
   "metadata": {
    "collapsed": false
   },
   "outputs": [
    {
     "name": "stdout",
     "output_type": "stream",
     "text": [
      "Tests Complete\n"
     ]
    }
   ],
   "source": [
    "## Solution Tests\n",
    "\n",
    "assert(num(0) == 2)\n",
    "assert(num(1) == 4)\n",
    "assert(num(2) == 7)\n",
    "assert(num(3) == 11)\n",
    "assert(num(4) == 16)\n",
    "assert(num(5) == 22)\n",
    "assert(num(6) == 29)\n",
    "assert(num(7) == 37)\n",
    "\n",
    "print(\"Tests Complete\")"
   ]
  },
  {
   "cell_type": "markdown",
   "metadata": {},
   "source": [
    "## Program 4\n",
    "\n",
    "Write a function, `mysqrt(a,g)`, that computes the square root of a (can be a real number) by the following formula: \n",
    "\n",
    "$$\n",
    "\\Large\n",
    "x_{n+1} = \\frac{x_{n} + \\frac{a}{x_{n}}}{2}\n",
    "$$\n",
    "    \n",
    "The input number, `g`, is the first guess $x_{0}$. This is plugged into the formula for $x_{n}$ to compute the next guess, $x_{ 1}$.  \n",
    "Continue until the difference between the current guess and the previous guess is less than .00005.  \n",
    "\n",
    "Return **a tuple** that contains the number of iterations and your last guess.  "
   ]
  },
  {
   "cell_type": "code",
   "execution_count": 153,
   "metadata": {
    "collapsed": false
   },
   "outputs": [],
   "source": [
    "## Solution\n",
    "\n",
    "def mysqrt(root, guess):\n",
    "    i = 0\n",
    "    while True:\n",
    "        i += 1\n",
    "        prev_guess = guess\n",
    "        guess = (guess + (root/guess)) / 2\n",
    "        if i > 1 and (prev_guess - guess) < 0.00005:\n",
    "            break;\n",
    "    \n",
    "    return (i, guess)\n",
    "    "
   ]
  },
  {
   "cell_type": "code",
   "execution_count": 154,
   "metadata": {
    "collapsed": false
   },
   "outputs": [
    {
     "name": "stdout",
     "output_type": "stream",
     "text": [
      "Tests Complete\n"
     ]
    }
   ],
   "source": [
    "## Solution Tests\n",
    "\n",
    "import math\n",
    "\n",
    "\n",
    "iterations, ans = mysqrt(16.0,1.0)\n",
    "assert(iterations == 6)\n",
    "error = abs(ans - math.sqrt(16.0))\n",
    "assert(error < 10e-13)\n",
    "\n",
    "iterations, ans = mysqrt(2.0, 1.0)\n",
    "assert(iterations == 4)\n",
    "error = abs(ans - math.sqrt(2.0))\n",
    "assert(error < 10e-12)\n",
    "\n",
    "print(\"Tests Complete\")"
   ]
  },
  {
   "cell_type": "code",
   "execution_count": null,
   "metadata": {
    "collapsed": true
   },
   "outputs": [],
   "source": []
  },
  {
   "cell_type": "code",
   "execution_count": null,
   "metadata": {
    "collapsed": true
   },
   "outputs": [],
   "source": []
  }
 ],
 "metadata": {
  "kernelspec": {
   "display_name": "Python 3",
   "language": "python",
   "name": "python3"
  },
  "language_info": {
   "codemirror_mode": {
    "name": "ipython",
    "version": 3
   },
   "file_extension": ".py",
   "mimetype": "text/x-python",
   "name": "python",
   "nbconvert_exporter": "python",
   "pygments_lexer": "ipython3",
   "version": "3.6.4"
  }
 },
 "nbformat": 4,
 "nbformat_minor": 2
}
