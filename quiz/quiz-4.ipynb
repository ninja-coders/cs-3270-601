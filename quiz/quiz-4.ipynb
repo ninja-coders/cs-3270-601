{
 "cells": [
  {
   "cell_type": "markdown",
   "metadata": {},
   "source": [
    "## Quiz 4\n",
    "\n",
    "For this quiz there are going to be 5 questions, each has its points\n",
    "value next to its name.  \n",
    "\n",
    "Don't fret, remember that quizzes in this class are extra credit so getting a 0 is not going to have a negative impact on your grade. "
   ]
  },
  {
   "cell_type": "markdown",
   "metadata": {},
   "source": [
    "### Question 1\n",
    "\n",
    "**1 point**\n",
    "\n",
    "Write a single line expression to take the list ['H', 'e', 'l', 'l', 'o'] and create the string 'hello'. "
   ]
  },
  {
   "cell_type": "code",
   "execution_count": 11,
   "metadata": {
    "collapsed": false
   },
   "outputs": [
    {
     "data": {
      "text/plain": [
       "'hello'"
      ]
     },
     "execution_count": 11,
     "metadata": {},
     "output_type": "execute_result"
    }
   ],
   "source": [
    "# Solution\n",
    "''.join(['H', 'e', 'l','l','o']).lower()\n",
    "#''.join([x.lower() for x in ['H', 'e', 'l', 'l', 'o']]))"
   ]
  },
  {
   "cell_type": "markdown",
   "metadata": {},
   "source": [
    "### Question 2\n",
    "\n",
    "**1 point**\n",
    "\n",
    "Create a decorator that prints out all the arguments that are passed into a method and then runs the method (returning the results)"
   ]
  },
  {
   "cell_type": "code",
   "execution_count": 16,
   "metadata": {
    "collapsed": false
   },
   "outputs": [
    {
     "name": "stdout",
     "output_type": "stream",
     "text": [
      "(1, 2, 3) {'a': 2}\n",
      "In side\n"
     ]
    },
    {
     "data": {
      "text/plain": [
       "1"
      ]
     },
     "execution_count": 16,
     "metadata": {},
     "output_type": "execute_result"
    }
   ],
   "source": [
    "# Solution\n",
    "def print_args(func):\n",
    "    def wrapper(*args, **kwargs):\n",
    "        print(args, kwargs)\n",
    "        #print(*args, *[f'{k}={v}' for k,v in kwargs.items()])\n",
    "        return func(*args, **kwargs)\n",
    "    return wrapper\n",
    "\n",
    "@print_args\n",
    "def Test(*args, **kwargs):\n",
    "    print('In side')\n",
    "    return 1\n",
    "\n",
    "Test(1, 2, 3, a=2)"
   ]
  },
  {
   "cell_type": "markdown",
   "metadata": {},
   "source": [
    "### Question 3\n",
    "\n",
    "**1 point**\n",
    "\n",
    "What is the default encoding for strings in python 3?  "
   ]
  },
  {
   "cell_type": "code",
   "execution_count": 17,
   "metadata": {
    "collapsed": false
   },
   "outputs": [
    {
     "data": {
      "text/plain": [
       "'utf-8'"
      ]
     },
     "execution_count": 17,
     "metadata": {},
     "output_type": "execute_result"
    }
   ],
   "source": [
    "# Solution \n",
    "'utf-8'"
   ]
  },
  {
   "cell_type": "markdown",
   "metadata": {},
   "source": [
    "### Question 4\n",
    "\n",
    "**2 points**\n",
    "\n",
    "Create a regular expression that will match on phone numbers of the given form `(xxx) xxx-xxxx`.  "
   ]
  },
  {
   "cell_type": "code",
   "execution_count": 21,
   "metadata": {
    "collapsed": false
   },
   "outputs": [
    {
     "data": {
      "text/plain": [
       "'\\\\(\\\\d{3}\\\\)\\\\s\\\\d{3}\\\\-\\\\d{4}'"
      ]
     },
     "execution_count": 21,
     "metadata": {},
     "output_type": "execute_result"
    }
   ],
   "source": [
    "# Solution\n",
    "r'\\(\\d{3}\\)\\s\\d{3}\\-\\d{4}'"
   ]
  },
  {
   "cell_type": "markdown",
   "metadata": {},
   "source": [
    "### Question 5\n",
    "\n",
    "**3 points**\n",
    "\n",
    "Create a class that has the correct dunder methods (magic methods) defined to work as a Context Manager.  This context manager needs to print `Starting` when opened and `Finished` when complete. "
   ]
  },
  {
   "cell_type": "code",
   "execution_count": 22,
   "metadata": {
    "collapsed": false
   },
   "outputs": [
    {
     "name": "stdout",
     "output_type": "stream",
     "text": [
      "Starting\n",
      "Inside\n",
      "Finished\n"
     ]
    }
   ],
   "source": [
    "# Solution\n",
    "class Test:\n",
    "    def __enter__(self):\n",
    "        print('Starting')\n",
    "        return self\n",
    "    def __exit__(self, *args, **kwargs):\n",
    "        print('Finished')\n",
    "        return True\n",
    "  \n",
    "with Test() as x:\n",
    "    print('Inside')"
   ]
  },
  {
   "cell_type": "code",
   "execution_count": null,
   "metadata": {
    "collapsed": true
   },
   "outputs": [],
   "source": []
  }
 ],
 "metadata": {
  "kernelspec": {
   "display_name": "Python 3",
   "language": "python",
   "name": "python3"
  },
  "language_info": {
   "codemirror_mode": {
    "name": "ipython",
    "version": 3
   },
   "file_extension": ".py",
   "mimetype": "text/x-python",
   "name": "python",
   "nbconvert_exporter": "python",
   "pygments_lexer": "ipython3",
   "version": "3.6.2"
  }
 },
 "nbformat": 4,
 "nbformat_minor": 2
}
