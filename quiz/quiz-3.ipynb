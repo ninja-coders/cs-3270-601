{
 "cells": [
  {
   "cell_type": "markdown",
   "metadata": {},
   "source": [
    "## Quiz 3\n",
    "\n",
    "For this quiz there are going to be 5 questions, each has its points value next to its name  \n",
    "\n",
    "Don't fret though, remember that in this class all quizzes are extra credit, so getting a 0 is not going to have a negative impact on your grade. "
   ]
  },
  {
   "cell_type": "markdown",
   "metadata": {},
   "source": [
    "### Question 1\n",
    "\n",
    "**1 point**\n",
    "\n",
    "List all the ways below to create an empty set. "
   ]
  },
  {
   "cell_type": "code",
   "execution_count": 4,
   "metadata": {
    "collapsed": false
   },
   "outputs": [
    {
     "data": {
      "text/plain": [
       "set()"
      ]
     },
     "execution_count": 4,
     "metadata": {},
     "output_type": "execute_result"
    }
   ],
   "source": [
    "# Solution\n",
    "set()"
   ]
  },
  {
   "cell_type": "markdown",
   "metadata": {},
   "source": [
    "### Question 2\n",
    "\n",
    "**1 point**\n",
    "\n",
    "Given a list named `my_list` write the code below that returns the length of the list"
   ]
  },
  {
   "cell_type": "code",
   "execution_count": null,
   "metadata": {
    "collapsed": true
   },
   "outputs": [],
   "source": [
    "# Solution\n",
    "len(my_list)"
   ]
  },
  {
   "cell_type": "markdown",
   "metadata": {},
   "source": [
    "### Question 3\n",
    "\n",
    "**2 points**\n",
    "\n",
    "Create a decorator named `fail_me` that adjusts a function to always throw an exception with the message \"Told to fail\""
   ]
  },
  {
   "cell_type": "code",
   "execution_count": 9,
   "metadata": {
    "collapsed": false
   },
   "outputs": [
    {
     "name": "stdout",
     "output_type": "stream",
     "text": [
      "Hello\n"
     ]
    }
   ],
   "source": [
    "# Solution\n",
    "def fail_me(func):\n",
    "    def wrapper(*args, **kwargs):\n",
    "        raise Exception('Told to fail')\n",
    "    return wrapper\n",
    "\n",
    "#@fail_me\n",
    "def test():\n",
    "    print('Hello')\n",
    "    \n",
    "test()"
   ]
  },
  {
   "cell_type": "markdown",
   "metadata": {},
   "source": [
    "### Question 4\n",
    "\n",
    "**2 points**\n",
    "\n",
    "Given a dataset (list of tuples) named `movies` with the following schema:  \n",
    "`(moviename: str, actors: List[str], year: int, rating: str)`\n",
    "\n",
    "Create a comprehension that returns the list of actors and the movies the actor was in given a supplied rating named `requested_rating`.\n",
    "\n",
    "Example Dataset: \n",
    "\n",
    "    [('Solo: A Star Wars Story', ['Alden Ehrenreich', 'Emilia Clarke', 'Donald Glover'], 2018, 'NA'),\n",
    "     ('Star Wars: The Last Jedi', ['Mark Hamill', 'Carrie Fisher', 'Daisy Ridley'], 2017, 'PG-13'),\n",
    "     ('Rogue One: A Star Wars Story', ['Felicity Jones', 'Diego Luna', 'Alan Tudyk'], 2016, 'PG-13'),\n",
    "     ('Star Wars: The Force Awakens', ['Mark Hamill', 'Carrie Fisher', 'Daisy Ridley'], 2015, 'PG-13'),\n",
    "     ...]\n",
    "     \n",
    "<Answer:\n",
    "{                                                                        \n",
    "    actor: [m for m, al, y, r in movies if actor in al and r == 'PG-13'] \n",
    "    for actor in                                                         \n",
    "      {a for _, inal, _, inr in movies for a in inal if inr == 'PG-13'}  \n",
    "}                                                                        \n",
    ">"
   ]
  },
  {
   "cell_type": "code",
   "execution_count": null,
   "metadata": {
    "collapsed": true
   },
   "outputs": [],
   "source": [
    "# Solution\n",
    "requested_rating = 'PG-13'\n",
    "unique_actors = {a for _, inal, _, inr in movies for a in inal if inr == requested_rating}\n",
    "\n",
    "[(actor, \n",
    "  [m for m, al, _, r in movies if actor in al and r == requested_rating])\n",
    "   for actor in unique_actors #{a for _, inal, _, inr in movies for a in inal if inr == requested_rating}\n",
    "]"
   ]
  },
  {
   "cell_type": "markdown",
   "metadata": {},
   "source": [
    "### Question 5\n",
    "\n",
    "**1 point**\n",
    "\n",
    "What is the name of the method used on a class to initialize it?"
   ]
  },
  {
   "cell_type": "code",
   "execution_count": null,
   "metadata": {
    "collapsed": true
   },
   "outputs": [],
   "source": [
    "# Solution\n",
    "__init__"
   ]
  }
 ],
 "metadata": {
  "kernelspec": {
   "display_name": "Python 3",
   "language": "python",
   "name": "python3"
  },
  "language_info": {
   "codemirror_mode": {
    "name": "ipython",
    "version": 3
   },
   "file_extension": ".py",
   "mimetype": "text/x-python",
   "name": "python",
   "nbconvert_exporter": "python",
   "pygments_lexer": "ipython3",
   "version": "3.6.2"
  }
 },
 "nbformat": 4,
 "nbformat_minor": 2
}
